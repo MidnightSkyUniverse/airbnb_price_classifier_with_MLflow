{
 "cells": [
  {
   "cell_type": "code",
   "execution_count": 1,
   "id": "aee49810",
   "metadata": {},
   "outputs": [],
   "source": [
    "import wandb\n",
    "import pandas as pd"
   ]
  },
  {
   "cell_type": "code",
   "execution_count": 23,
   "id": "62cbcaef",
   "metadata": {},
   "outputs": [
    {
     "data": {
      "text/html": [
       "Finishing last run (ID:a4w82f4r) before initializing another..."
      ],
      "text/plain": [
       "<IPython.core.display.HTML object>"
      ]
     },
     "metadata": {},
     "output_type": "display_data"
    },
    {
     "data": {
      "text/html": [
       "<br/>Waiting for W&B process to finish, PID 574306<br/>Program ended successfully."
      ],
      "text/plain": [
       "<IPython.core.display.HTML object>"
      ]
     },
     "metadata": {},
     "output_type": "display_data"
    },
    {
     "data": {
      "application/vnd.jupyter.widget-view+json": {
       "model_id": "",
       "version_major": 2,
       "version_minor": 0
      },
      "text/plain": [
       "VBox(children=(Label(value=' 0.00MB of 0.00MB uploaded (0.00MB deduped)\\r'), FloatProgress(value=1.0, max=1.0)…"
      ]
     },
     "metadata": {},
     "output_type": "display_data"
    },
    {
     "data": {
      "text/html": [
       "Find user logs for this run at: <code>/home/admin/mlops-project/src/eda/wandb/run-20211207_163404-a4w82f4r/logs/debug.log</code>"
      ],
      "text/plain": [
       "<IPython.core.display.HTML object>"
      ]
     },
     "metadata": {},
     "output_type": "display_data"
    },
    {
     "data": {
      "text/html": [
       "Find internal logs for this run at: <code>/home/admin/mlops-project/src/eda/wandb/run-20211207_163404-a4w82f4r/logs/debug-internal.log</code>"
      ],
      "text/plain": [
       "<IPython.core.display.HTML object>"
      ]
     },
     "metadata": {},
     "output_type": "display_data"
    },
    {
     "data": {
      "text/html": [
       "Synced 6 W&B file(s), 0 media file(s), 0 artifact file(s) and 0 other file(s)"
      ],
      "text/plain": [
       "<IPython.core.display.HTML object>"
      ]
     },
     "metadata": {},
     "output_type": "display_data"
    },
    {
     "data": {
      "text/html": [
       "\n",
       "                    <br/>Synced <strong style=\"color:#cdcd00\">olive-moon-218</strong>: <a href=\"https://wandb.ai/midnightskyuniverse/nyc_airbnb/runs/a4w82f4r\" target=\"_blank\">https://wandb.ai/midnightskyuniverse/nyc_airbnb/runs/a4w82f4r</a><br/>\n",
       "                "
      ],
      "text/plain": [
       "<IPython.core.display.HTML object>"
      ]
     },
     "metadata": {},
     "output_type": "display_data"
    },
    {
     "data": {
      "text/html": [
       "...Successfully finished last run (ID:a4w82f4r). Initializing new run:<br/><br/>"
      ],
      "text/plain": [
       "<IPython.core.display.HTML object>"
      ]
     },
     "metadata": {},
     "output_type": "display_data"
    },
    {
     "name": "stderr",
     "output_type": "stream",
     "text": [
      "\u001b[34m\u001b[1mwandb\u001b[0m: wandb version 0.12.7 is available!  To upgrade, please run:\n",
      "\u001b[34m\u001b[1mwandb\u001b[0m:  $ pip install wandb --upgrade\n"
     ]
    },
    {
     "data": {
      "text/html": [
       "\n",
       "                Tracking run with wandb version 0.10.31<br/>\n",
       "                Syncing run <strong style=\"color:#cdcd00\">swift-brook-223</strong> to <a href=\"https://wandb.ai\" target=\"_blank\">Weights & Biases</a> <a href=\"https://docs.wandb.com/integrations/jupyter.html\" target=\"_blank\">(Documentation)</a>.<br/>\n",
       "                Project page: <a href=\"https://wandb.ai/midnightskyuniverse/nyc_airbnb\" target=\"_blank\">https://wandb.ai/midnightskyuniverse/nyc_airbnb</a><br/>\n",
       "                Run page: <a href=\"https://wandb.ai/midnightskyuniverse/nyc_airbnb/runs/16bicy2u\" target=\"_blank\">https://wandb.ai/midnightskyuniverse/nyc_airbnb/runs/16bicy2u</a><br/>\n",
       "                Run data is saved locally in <code>/home/admin/mlops-project/src/eda/wandb/run-20211207_164220-16bicy2u</code><br/><br/>\n",
       "            "
      ],
      "text/plain": [
       "<IPython.core.display.HTML object>"
      ]
     },
     "metadata": {},
     "output_type": "display_data"
    }
   ],
   "source": [
    "run = wandb.init(project=\"nyc_airbnb\", group=\"eda\") #save_code=True so the notebook is uploaded to W&B\n",
    "local_path = wandb.use_artifact(\"clean_sample.csv:latest\").file()\n",
    "df = pd.read_csv(local_path,parse_dates=['last_review'])"
   ]
  },
  {
   "cell_type": "code",
   "execution_count": 24,
   "id": "5186057b",
   "metadata": {},
   "outputs": [
    {
     "name": "stdout",
     "output_type": "stream",
     "text": [
      "<class 'pandas.core.frame.DataFrame'>\n",
      "RangeIndex: 18995 entries, 0 to 18994\n",
      "Data columns (total 16 columns):\n",
      " #   Column                          Non-Null Count  Dtype         \n",
      "---  ------                          --------------  -----         \n",
      " 0   id                              18995 non-null  int64         \n",
      " 1   name                            18988 non-null  object        \n",
      " 2   host_id                         18995 non-null  int64         \n",
      " 3   host_name                       18987 non-null  object        \n",
      " 4   neighbourhood_group             18995 non-null  object        \n",
      " 5   neighbourhood                   18995 non-null  object        \n",
      " 6   latitude                        18995 non-null  float64       \n",
      " 7   longitude                       18995 non-null  float64       \n",
      " 8   room_type                       18995 non-null  object        \n",
      " 9   price                           18995 non-null  int64         \n",
      " 10  minimum_nights                  18995 non-null  int64         \n",
      " 11  number_of_reviews               18995 non-null  int64         \n",
      " 12  last_review                     15240 non-null  datetime64[ns]\n",
      " 13  reviews_per_month               15240 non-null  float64       \n",
      " 14  calculated_host_listings_count  18995 non-null  int64         \n",
      " 15  availability_365                18995 non-null  int64         \n",
      "dtypes: datetime64[ns](1), float64(3), int64(7), object(5)\n",
      "memory usage: 2.3+ MB\n"
     ]
    }
   ],
   "source": [
    "df.info()"
   ]
  },
  {
   "cell_type": "code",
   "execution_count": 19,
   "id": "0cfb75cf",
   "metadata": {},
   "outputs": [
    {
     "data": {
      "text/html": [
       "Finishing last run (ID:2imz7sob) before initializing another..."
      ],
      "text/plain": [
       "<IPython.core.display.HTML object>"
      ]
     },
     "metadata": {},
     "output_type": "display_data"
    },
    {
     "data": {
      "text/html": [
       "<br/>Waiting for W&B process to finish, PID 574268<br/>Program ended successfully."
      ],
      "text/plain": [
       "<IPython.core.display.HTML object>"
      ]
     },
     "metadata": {},
     "output_type": "display_data"
    },
    {
     "data": {
      "application/vnd.jupyter.widget-view+json": {
       "model_id": "",
       "version_major": 2,
       "version_minor": 0
      },
      "text/plain": [
       "VBox(children=(Label(value=' 0.00MB of 0.00MB uploaded (0.00MB deduped)\\r'), FloatProgress(value=1.0, max=1.0)…"
      ]
     },
     "metadata": {},
     "output_type": "display_data"
    },
    {
     "data": {
      "text/html": [
       "Find user logs for this run at: <code>/home/admin/mlops-project/src/eda/wandb/run-20211207_163354-2imz7sob/logs/debug.log</code>"
      ],
      "text/plain": [
       "<IPython.core.display.HTML object>"
      ]
     },
     "metadata": {},
     "output_type": "display_data"
    },
    {
     "data": {
      "text/html": [
       "Find internal logs for this run at: <code>/home/admin/mlops-project/src/eda/wandb/run-20211207_163354-2imz7sob/logs/debug-internal.log</code>"
      ],
      "text/plain": [
       "<IPython.core.display.HTML object>"
      ]
     },
     "metadata": {},
     "output_type": "display_data"
    },
    {
     "data": {
      "text/html": [
       "Synced 6 W&B file(s), 0 media file(s), 0 artifact file(s) and 0 other file(s)"
      ],
      "text/plain": [
       "<IPython.core.display.HTML object>"
      ]
     },
     "metadata": {},
     "output_type": "display_data"
    },
    {
     "data": {
      "text/html": [
       "\n",
       "                    <br/>Synced <strong style=\"color:#cdcd00\">eternal-jazz-217</strong>: <a href=\"https://wandb.ai/midnightskyuniverse/nyc_airbnb/runs/2imz7sob\" target=\"_blank\">https://wandb.ai/midnightskyuniverse/nyc_airbnb/runs/2imz7sob</a><br/>\n",
       "                "
      ],
      "text/plain": [
       "<IPython.core.display.HTML object>"
      ]
     },
     "metadata": {},
     "output_type": "display_data"
    },
    {
     "data": {
      "text/html": [
       "...Successfully finished last run (ID:2imz7sob). Initializing new run:<br/><br/>"
      ],
      "text/plain": [
       "<IPython.core.display.HTML object>"
      ]
     },
     "metadata": {},
     "output_type": "display_data"
    },
    {
     "name": "stderr",
     "output_type": "stream",
     "text": [
      "\u001b[34m\u001b[1mwandb\u001b[0m: wandb version 0.12.7 is available!  To upgrade, please run:\n",
      "\u001b[34m\u001b[1mwandb\u001b[0m:  $ pip install wandb --upgrade\n"
     ]
    },
    {
     "data": {
      "text/html": [
       "\n",
       "                Tracking run with wandb version 0.10.31<br/>\n",
       "                Syncing run <strong style=\"color:#cdcd00\">olive-moon-218</strong> to <a href=\"https://wandb.ai\" target=\"_blank\">Weights & Biases</a> <a href=\"https://docs.wandb.com/integrations/jupyter.html\" target=\"_blank\">(Documentation)</a>.<br/>\n",
       "                Project page: <a href=\"https://wandb.ai/midnightskyuniverse/nyc_airbnb\" target=\"_blank\">https://wandb.ai/midnightskyuniverse/nyc_airbnb</a><br/>\n",
       "                Run page: <a href=\"https://wandb.ai/midnightskyuniverse/nyc_airbnb/runs/a4w82f4r\" target=\"_blank\">https://wandb.ai/midnightskyuniverse/nyc_airbnb/runs/a4w82f4r</a><br/>\n",
       "                Run data is saved locally in <code>/home/admin/mlops-project/src/eda/wandb/run-20211207_163404-a4w82f4r</code><br/><br/>\n",
       "            "
      ],
      "text/plain": [
       "<IPython.core.display.HTML object>"
      ]
     },
     "metadata": {},
     "output_type": "display_data"
    }
   ],
   "source": [
    "run = wandb.init(project=\"nyc_airbnb\", group=\"eda\") #save_code=True so the notebook is uploaded to W&B\n",
    "local_path = wandb.use_artifact(\"clean_sample.csv:v3\").file()\n",
    "df3 = pd.read_csv(local_path)"
   ]
  },
  {
   "cell_type": "code",
   "execution_count": 20,
   "id": "5a2b1e6b",
   "metadata": {},
   "outputs": [
    {
     "name": "stdout",
     "output_type": "stream",
     "text": [
      "<class 'pandas.core.frame.DataFrame'>\n",
      "RangeIndex: 15228 entries, 0 to 15227\n",
      "Data columns (total 16 columns):\n",
      " #   Column                          Non-Null Count  Dtype  \n",
      "---  ------                          --------------  -----  \n",
      " 0   id                              15228 non-null  int64  \n",
      " 1   name                            15226 non-null  object \n",
      " 2   host_id                         15228 non-null  int64  \n",
      " 3   host_name                       15221 non-null  object \n",
      " 4   neighbourhood_group             15228 non-null  object \n",
      " 5   neighbourhood                   15228 non-null  object \n",
      " 6   latitude                        15228 non-null  float64\n",
      " 7   longitude                       15228 non-null  float64\n",
      " 8   room_type                       15228 non-null  object \n",
      " 9   price                           15228 non-null  int64  \n",
      " 10  minimum_nights                  15228 non-null  int64  \n",
      " 11  number_of_reviews               15228 non-null  int64  \n",
      " 12  last_review                     15228 non-null  object \n",
      " 13  reviews_per_month               15228 non-null  float64\n",
      " 14  calculated_host_listings_count  15228 non-null  int64  \n",
      " 15  availability_365                15228 non-null  int64  \n",
      "dtypes: float64(3), int64(7), object(6)\n",
      "memory usage: 1.9+ MB\n"
     ]
    }
   ],
   "source": [
    "df3.info()"
   ]
  },
  {
   "cell_type": "code",
   "execution_count": 21,
   "id": "32e15fe0",
   "metadata": {},
   "outputs": [
    {
     "data": {
      "text/plain": [
       "(18995, 16)"
      ]
     },
     "execution_count": 21,
     "metadata": {},
     "output_type": "execute_result"
    }
   ],
   "source": [
    "idx = df['minimum_nights'].between(0,365,inclusive='both')\n",
    "df2 = df[idx].copy()\n",
    "df2.shape"
   ]
  },
  {
   "cell_type": "code",
   "execution_count": 22,
   "id": "de9e03f4",
   "metadata": {},
   "outputs": [
    {
     "data": {
      "text/plain": [
       "(15228, 16)"
      ]
     },
     "execution_count": 22,
     "metadata": {},
     "output_type": "execute_result"
    }
   ],
   "source": [
    "idx = df2['last_review'].gt(pd.Timestamp(2013, 1, 1, 12))\n",
    "df3 = df2[idx].copy()\n",
    "df3.shape"
   ]
  },
  {
   "cell_type": "code",
   "execution_count": null,
   "id": "91ee33c6",
   "metadata": {},
   "outputs": [],
   "source": []
  }
 ],
 "metadata": {
  "kernelspec": {
   "display_name": "Python 3 (ipykernel)",
   "language": "python",
   "name": "python3"
  },
  "language_info": {
   "codemirror_mode": {
    "name": "ipython",
    "version": 3
   },
   "file_extension": ".py",
   "mimetype": "text/x-python",
   "name": "python",
   "nbconvert_exporter": "python",
   "pygments_lexer": "ipython3",
   "version": "3.8.12"
  }
 },
 "nbformat": 4,
 "nbformat_minor": 5
}
