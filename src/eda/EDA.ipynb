{
 "cells": [
  {
   "cell_type": "code",
   "execution_count": 1,
   "id": "072ce05e",
   "metadata": {},
   "outputs": [],
   "source": [
    "import wandb\n",
    "import pandas as pd"
   ]
  },
  {
   "cell_type": "code",
   "execution_count": 2,
   "id": "c09170d4",
   "metadata": {},
   "outputs": [
    {
     "name": "stderr",
     "output_type": "stream",
     "text": [
      "\u001b[34m\u001b[1mwandb\u001b[0m: Currently logged in as: \u001b[33mmidnightskyuniverse\u001b[0m (use `wandb login --relogin` to force relogin)\n",
      "\u001b[34m\u001b[1mwandb\u001b[0m: wandb version 0.12.7 is available!  To upgrade, please run:\n",
      "\u001b[34m\u001b[1mwandb\u001b[0m:  $ pip install wandb --upgrade\n"
     ]
    },
    {
     "data": {
      "text/html": [
       "\n",
       "                Tracking run with wandb version 0.10.31<br/>\n",
       "                Syncing run <strong style=\"color:#cdcd00\">grateful-flower-178</strong> to <a href=\"https://wandb.ai\" target=\"_blank\">Weights & Biases</a> <a href=\"https://docs.wandb.com/integrations/jupyter.html\" target=\"_blank\">(Documentation)</a>.<br/>\n",
       "                Project page: <a href=\"https://wandb.ai/midnightskyuniverse/nyc_airbnb\" target=\"_blank\">https://wandb.ai/midnightskyuniverse/nyc_airbnb</a><br/>\n",
       "                Run page: <a href=\"https://wandb.ai/midnightskyuniverse/nyc_airbnb/runs/29m16yix\" target=\"_blank\">https://wandb.ai/midnightskyuniverse/nyc_airbnb/runs/29m16yix</a><br/>\n",
       "                Run data is saved locally in <code>/home/admin/mlops-project/src/eda/wandb/run-20211202_142347-29m16yix</code><br/><br/>\n",
       "            "
      ],
      "text/plain": [
       "<IPython.core.display.HTML object>"
      ]
     },
     "metadata": {},
     "output_type": "display_data"
    }
   ],
   "source": [
    "# Fetch artifact sample.csv in latest version\n",
    "# use save_code=True so the notebook is uploaded to W&B\n",
    "run = wandb.init(project=\"nyc_airbnb\", group=\"eda\", save_code=True)\n",
    "local_path = wandb.use_artifact(\"sample.csv:v1\").file()\n",
    "df = pd.read_csv(local_path)"
   ]
  },
  {
   "cell_type": "code",
   "execution_count": 3,
   "id": "24a9c3ee",
   "metadata": {},
   "outputs": [
    {
     "name": "stdout",
     "output_type": "stream",
     "text": [
      "<class 'pandas.core.frame.DataFrame'>\n",
      "RangeIndex: 48895 entries, 0 to 48894\n",
      "Data columns (total 16 columns):\n",
      " #   Column                          Non-Null Count  Dtype  \n",
      "---  ------                          --------------  -----  \n",
      " 0   id                              48895 non-null  int64  \n",
      " 1   name                            48879 non-null  object \n",
      " 2   host_id                         48895 non-null  int64  \n",
      " 3   host_name                       48874 non-null  object \n",
      " 4   neighbourhood_group             48895 non-null  object \n",
      " 5   neighbourhood                   48895 non-null  object \n",
      " 6   latitude                        48895 non-null  float64\n",
      " 7   longitude                       48895 non-null  float64\n",
      " 8   room_type                       48895 non-null  object \n",
      " 9   price                           48895 non-null  int64  \n",
      " 10  minimum_nights                  48895 non-null  int64  \n",
      " 11  number_of_reviews               48895 non-null  int64  \n",
      " 12  last_review                     38843 non-null  object \n",
      " 13  reviews_per_month               38843 non-null  float64\n",
      " 14  calculated_host_listings_count  48895 non-null  int64  \n",
      " 15  availability_365                48895 non-null  int64  \n",
      "dtypes: float64(3), int64(7), object(6)\n",
      "memory usage: 6.0+ MB\n"
     ]
    }
   ],
   "source": [
    "df.info()"
   ]
  },
  {
   "cell_type": "code",
   "execution_count": 7,
   "id": "07cd2d96",
   "metadata": {},
   "outputs": [],
   "source": [
    "# Import pandas profilling to create profile of imported data\n",
    "import pandas_profiling"
   ]
  },
  {
   "cell_type": "code",
   "execution_count": 8,
   "id": "af69a4ac",
   "metadata": {},
   "outputs": [
    {
     "data": {
      "application/vnd.jupyter.widget-view+json": {
       "model_id": "d04525e3fafa4130a258c92d61579f77",
       "version_major": 2,
       "version_minor": 0
      },
      "text/plain": [
       "Summarize dataset:   0%|          | 0/29 [00:00<?, ?it/s]"
      ]
     },
     "metadata": {},
     "output_type": "display_data"
    },
    {
     "data": {
      "application/vnd.jupyter.widget-view+json": {
       "model_id": "fbe3d3fdf1834d91a1bc7547b74c2558",
       "version_major": 2,
       "version_minor": 0
      },
      "text/plain": [
       "Generate report structure:   0%|          | 0/1 [00:00<?, ?it/s]"
      ]
     },
     "metadata": {},
     "output_type": "display_data"
    },
    {
     "data": {
      "application/vnd.jupyter.widget-view+json": {
       "model_id": "",
       "version_major": 2,
       "version_minor": 0
      },
      "text/plain": [
       "Render widgets:   0%|          | 0/1 [00:00<?, ?it/s]"
      ]
     },
     "metadata": {},
     "output_type": "display_data"
    },
    {
     "data": {
      "application/vnd.jupyter.widget-view+json": {
       "model_id": "8ecb1561c6a34c80828e3d5e50de140b",
       "version_major": 2,
       "version_minor": 0
      },
      "text/plain": [
       "VBox(children=(Tab(children=(Tab(children=(GridBox(children=(VBox(children=(GridspecLayout(children=(HTML(valu…"
      ]
     },
     "metadata": {},
     "output_type": "display_data"
    }
   ],
   "source": [
    "profile = pandas_profiling.ProfileReport(df)\n",
    "profile.to_widgets()"
   ]
  },
  {
   "cell_type": "code",
   "execution_count": 20,
   "id": "cb3b312c",
   "metadata": {},
   "outputs": [
    {
     "name": "stdout",
     "output_type": "stream",
     "text": [
      "<class 'pandas.core.frame.DataFrame'>\n",
      "RangeIndex: 46414 entries, 0 to 46413\n",
      "Data columns (total 16 columns):\n",
      " #   Column                          Non-Null Count  Dtype         \n",
      "---  ------                          --------------  -----         \n",
      " 0   id                              46414 non-null  int64         \n",
      " 1   name                            46399 non-null  object        \n",
      " 2   host_id                         46414 non-null  int64         \n",
      " 3   host_name                       46393 non-null  object        \n",
      " 4   neighbourhood_group             46414 non-null  object        \n",
      " 5   neighbourhood                   46414 non-null  object        \n",
      " 6   latitude                        46414 non-null  float64       \n",
      " 7   longitude                       46414 non-null  float64       \n",
      " 8   room_type                       46414 non-null  object        \n",
      " 9   price                           46414 non-null  int64         \n",
      " 10  minimum_nights                  46414 non-null  int64         \n",
      " 11  number_of_reviews               46414 non-null  int64         \n",
      " 12  last_review                     37240 non-null  datetime64[ns]\n",
      " 13  reviews_per_month               37240 non-null  float64       \n",
      " 14  calculated_host_listings_count  46414 non-null  int64         \n",
      " 15  availability_365                46414 non-null  int64         \n",
      "dtypes: datetime64[ns](1), float64(3), int64(7), object(5)\n",
      "memory usage: 5.7+ MB\n"
     ]
    }
   ],
   "source": [
    "# Drop price outliers\n",
    "min_price = 10\n",
    "max_price = 350\n",
    "idx = df['price'].between(min_price, max_price)\n",
    "df = df[idx].copy()\n",
    "# Drop locations outisde of NY\n",
    "idx = df['longitude'].between(-74.25, -73.50) & df['latitude'].between(40.5, 41.2)\n",
    "df = df[idx].copy()\n",
    "# Drop entries where minimum_nights > 365\n",
    "idx = df['minimum_nights'].between(0,365,inclusive='both')\n",
    "df = df[idx].copy()\n",
    "# Convert last_review to datetime\n",
    "df['last_review'] = pd.to_datetime(df['last_review'])\n",
    "# Reset index to avoid creating df_index by pandas_profiling\n",
    "df.reset_index(drop=True, inplace=True)\n",
    "df.info()"
   ]
  },
  {
   "cell_type": "code",
   "execution_count": 21,
   "id": "90c687c9",
   "metadata": {},
   "outputs": [
    {
     "data": {
      "text/plain": [
       "<AxesSubplot:xlabel='last_review', ylabel='number_of_reviews'>"
      ]
     },
     "execution_count": 21,
     "metadata": {},
     "output_type": "execute_result"
    },
    {
     "data": {
      "image/png": "[encoded data removed]",
      "text/plain": [
       "<Figure size 432x288 with 1 Axes>"
      ]
     },
     "metadata": {
      "needs_background": "light"
     },
     "output_type": "display_data"
    }
   ],
   "source": [
    "import seaborn as sns\n",
    "sns.scatterplot(x=df['last_review'], y=df['number_of_reviews'])"
   ]
  },
  {
   "cell_type": "code",
   "execution_count": 59,
   "id": "841c8fa2",
   "metadata": {},
   "outputs": [
    {
     "name": "stdout",
     "output_type": "stream",
     "text": [
      "<class 'pandas.core.frame.DataFrame'>\n",
      "Int64Index: 37207 entries, 0 to 46371\n",
      "Data columns (total 16 columns):\n",
      " #   Column                          Non-Null Count  Dtype         \n",
      "---  ------                          --------------  -----         \n",
      " 0   id                              37207 non-null  int64         \n",
      " 1   name                            37201 non-null  object        \n",
      " 2   host_id                         37207 non-null  int64         \n",
      " 3   host_name                       37191 non-null  object        \n",
      " 4   neighbourhood_group             37207 non-null  object        \n",
      " 5   neighbourhood                   37207 non-null  object        \n",
      " 6   latitude                        37207 non-null  float64       \n",
      " 7   longitude                       37207 non-null  float64       \n",
      " 8   room_type                       37207 non-null  object        \n",
      " 9   price                           37207 non-null  int64         \n",
      " 10  minimum_nights                  37207 non-null  int64         \n",
      " 11  number_of_reviews               37207 non-null  int64         \n",
      " 12  last_review                     37207 non-null  datetime64[ns]\n",
      " 13  reviews_per_month               37207 non-null  float64       \n",
      " 14  calculated_host_listings_count  37207 non-null  int64         \n",
      " 15  availability_365                37207 non-null  int64         \n",
      "dtypes: datetime64[ns](1), float64(3), int64(7), object(5)\n",
      "memory usage: 4.8+ MB\n"
     ]
    }
   ],
   "source": [
    "# Drop entries which have not got a reivew since 2013\n",
    "idx = df['last_review'].gt(pd.Timestamp(2013, 1, 1, 12))\n",
    "df = df[idx].copy()\n",
    "df.info()"
   ]
  },
  {
   "cell_type": "code",
   "execution_count": null,
   "id": "d651ac1b",
   "metadata": {},
   "outputs": [],
   "source": [
    "run.finish()"
   ]
  }
 ],
 "metadata": {
  "kernelspec": {
   "display_name": "Python 3 (ipykernel)",
   "language": "python",
   "name": "python3"
  },
  "language_info": {
   "codemirror_mode": {
    "name": "ipython",
    "version": 3
   },
   "file_extension": ".py",
   "mimetype": "text/x-python",
   "name": "python",
   "nbconvert_exporter": "python",
   "pygments_lexer": "ipython3",
   "version": "3.8.12"
  }
 },
 "nbformat": 4,
 "nbformat_minor": 5
}
